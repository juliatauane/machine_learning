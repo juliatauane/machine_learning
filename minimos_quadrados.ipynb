{
  "nbformat": 4,
  "nbformat_minor": 0,
  "metadata": {
    "colab": {
      "name": "minimos_quadrados.ipynb",
      "provenance": [],
      "collapsed_sections": [],
      "mount_file_id": "1aSakoPNctKEl76YoZm_oq4NJj0Rq2sev",
      "authorship_tag": "ABX9TyPkZSDHwNt2vQFDAprEdyPP"
    },
    "kernelspec": {
      "name": "python3",
      "display_name": "Python 3"
    },
    "language_info": {
      "name": "python"
    }
  },
  "cells": [
    {
      "cell_type": "markdown",
      "metadata": {
        "id": "1vo_1PO3TuIh"
      },
      "source": [
        "# **ALPS WATER- LINEAR**\n",
        "\n",
        "Regressão Linear com Método dos Mínimos Quadrados Básico (linear)\n",
        "Y= boiling , X= Pressure -> Y= Beta0 +Beta1*X\n",
        "\n",
        "Passo a passo:\n",
        "\n",
        "* **1° passo:** X without Bias (Beta0): transformar X em matriz com a primeira coluna em 1;\n",
        "* **2° passo:** Transpor a matriz X -> XT\n",
        "* **3° passo:** XT.X\n",
        "* **4° passo:** XT.Y\n",
        "* **5°** passo: Beta= ((XT.X)^-1)*XT.Y\n",
        "\n"
      ]
    },
    {
      "cell_type": "code",
      "metadata": {
        "id": "QGWLTcMtTtPp"
      },
      "source": [
        "#definição das funções\n",
        "#calculo da matriz transposta\n",
        "def transposta(X):\n",
        "    return [[X[j][i] for j in range(len(X))] for i in range(len(X[0]))]\n",
        "\n",
        "\n",
        "#Multiplicação escalar de duas matrizes:\n",
        "def multiplicacao_matrizes(matriz1,matriz2):\n",
        "    x = []\n",
        "    for i in range(0,len(matriz1)):\n",
        "        y=[]\n",
        "        for j in range(0,len(matriz2[0])):\n",
        "            total = 0\n",
        "            for k in range(0,len(matriz1[0])):\n",
        "                total = total + matriz1[i][k]*matriz2[k][j]\n",
        "            y.append(total)\n",
        "        x.append(y)\n",
        "    return x\n",
        "\n",
        "#Multiplicação escalar da matriz transposta por um vetor:\n",
        "def multiplicacao_matriz_vetor(matriz1,vetor2):\n",
        "    x=[]\n",
        "    total = 0\n",
        "    for i in range(len(matriz1)):\n",
        "        total=0\n",
        "        for j in range(len(vetor2)):\n",
        "            total = total + matriz1[i][j] * vetor2[j]\n",
        "        x.append(total)\n",
        "    return x\n",
        "\n",
        "# Cálculo do determinante da matriz\n",
        "def Determinante(matriz):\n",
        "    #Determinante da matriz 2x2\n",
        "    if len(matriz) == 2:\n",
        "        return (matriz[0][0]*matriz[1][1])-(matriz[0][1]*matriz[1][0])\n",
        "\n",
        "    determinant = 0\n",
        "    for c in range(len(matriz)):\n",
        "        determinant = determinant + ((-1)**c)*matriz[0][c]*Determinante([row[:c] + row[c+1:] for \n",
        "                                                                         row in (matriz[:0]+matriz[0+1:])])\n",
        "    return determinant\n",
        "\n",
        "#Calculo da matriz Inversa usando cofatores\n",
        "def matriz_inversa(m):\n",
        "    determinant = Determinante(m)\n",
        "    \n",
        "    #Matriz 2x2:\n",
        "    if len(m) == 2:\n",
        "        a = m[0][0]\n",
        "        b = m[0][1]\n",
        "        c = m[1][0]\n",
        "        d = m[1][1]\n",
        "\n",
        "        inverse= [d, -b, -c, a]\n",
        "        calc_inverse=[]\n",
        "        for i in inverse:\n",
        "            x = (1/(a*d-b*c)) * i\n",
        "            calc_inverse.append(x)\n",
        "        col = 2 \n",
        "        inverse_matrix = [calc_inverse[i:i+col] for i in range(0, len(calc_inverse), col)]\n",
        "        return inverse_matrix\n",
        "    \n",
        "    else:\n",
        "    #Matriz de cofatores:\n",
        "        cofactors = []\n",
        "        for r in range(len(m)):\n",
        "            cofactorRow = []\n",
        "            for c in range(len(m)):\n",
        "                minor = [row[:c] + row[c+1:] for row in (m[:r]+m[r+1:])]\n",
        "                cofactorRow.append(((-1)**(r+c)) * Determinante(minor))\n",
        "            cofactors.append(cofactorRow)\n",
        "        cofactors = transposta(cofactors)\n",
        "        for r in range(len(cofactors)):\n",
        "            for c in range(len(cofactors)):\n",
        "                cofactors[r][c] = cofactors[r][c]/determinant\n",
        "        return cofactors\n"
      ],
      "execution_count": 33,
      "outputs": []
    },
    {
      "cell_type": "code",
      "metadata": {
        "id": "qLKckYckXEQ8",
        "colab": {
          "base_uri": "https://localhost:8080/",
          "height": 203
        },
        "outputId": "95b50204-31ff-4b33-d79f-02925bc9a8f8"
      },
      "source": [
        "#Importando o dataset Alps Water\n",
        "import pandas as pd\n",
        "alps_water= pd.read_csv('/content/drive/MyDrive/Colab Notebooks/data/alpswater.txt',sep='\\t',header=None)\n",
        "alps_water.columns= ['Row','Pressure','Boiling']\n",
        "alps_water.drop(columns='Row', inplace=True)\n",
        "alps_water.head()"
      ],
      "execution_count": 34,
      "outputs": [
        {
          "output_type": "execute_result",
          "data": {
            "text/html": [
              "<div>\n",
              "<style scoped>\n",
              "    .dataframe tbody tr th:only-of-type {\n",
              "        vertical-align: middle;\n",
              "    }\n",
              "\n",
              "    .dataframe tbody tr th {\n",
              "        vertical-align: top;\n",
              "    }\n",
              "\n",
              "    .dataframe thead th {\n",
              "        text-align: right;\n",
              "    }\n",
              "</style>\n",
              "<table border=\"1\" class=\"dataframe\">\n",
              "  <thead>\n",
              "    <tr style=\"text-align: right;\">\n",
              "      <th></th>\n",
              "      <th>Pressure</th>\n",
              "      <th>Boiling</th>\n",
              "    </tr>\n",
              "  </thead>\n",
              "  <tbody>\n",
              "    <tr>\n",
              "      <th>0</th>\n",
              "      <td>20.79</td>\n",
              "      <td>194.5</td>\n",
              "    </tr>\n",
              "    <tr>\n",
              "      <th>1</th>\n",
              "      <td>20.79</td>\n",
              "      <td>194.3</td>\n",
              "    </tr>\n",
              "    <tr>\n",
              "      <th>2</th>\n",
              "      <td>22.40</td>\n",
              "      <td>197.9</td>\n",
              "    </tr>\n",
              "    <tr>\n",
              "      <th>3</th>\n",
              "      <td>22.67</td>\n",
              "      <td>198.4</td>\n",
              "    </tr>\n",
              "    <tr>\n",
              "      <th>4</th>\n",
              "      <td>23.15</td>\n",
              "      <td>199.4</td>\n",
              "    </tr>\n",
              "  </tbody>\n",
              "</table>\n",
              "</div>"
            ],
            "text/plain": [
              "   Pressure  Boiling\n",
              "0     20.79    194.5\n",
              "1     20.79    194.3\n",
              "2     22.40    197.9\n",
              "3     22.67    198.4\n",
              "4     23.15    199.4"
            ]
          },
          "metadata": {},
          "execution_count": 34
        }
      ]
    },
    {
      "cell_type": "code",
      "metadata": {
        "id": "rdGrbrbCdT1Q"
      },
      "source": [
        "# Entrada\n",
        "x_input = [i for i in alps_water['Pressure']]\n",
        "X_alps = [[1,i] for i in x_input]\n",
        "\n",
        "#Saída\n",
        "Y_alps = alps_water['Boiling']\n",
        "y_input=[i for i in alps_water['Boiling']]\n",
        "\n",
        "#Matriz transposta\n",
        "Xt_alps = transposta(X_alps)\n",
        "X=Xt_alps [1]\n",
        "\n",
        "#Transposta de X escalar X\n",
        "m_alps = multiplicacao_matrizes(Xt_alps,X_alps)\n",
        "\n",
        "#matriz inversa\n",
        "inv_alps = matriz_inversa(m_alps)\n",
        "\n",
        "#Multiplicação da matriz X transposta pelo vetor y\n",
        "XtY_alps= multiplicacao_matriz_vetor(Xt_alps,Y_alps)"
      ],
      "execution_count": 49,
      "outputs": []
    },
    {
      "cell_type": "code",
      "metadata": {
        "id": "DiL2rHasdml5",
        "colab": {
          "base_uri": "https://localhost:8080/"
        },
        "outputId": "53875bcd-6dd6-41f4-e594-cb90e6c5e9ed"
      },
      "source": [
        "#Resultado final\n",
        "print('Método Linear - Dataset Alps Water:')\n",
        "beta_alps = multiplicacao_matriz_vetor(inv_alps,XtY_alps)\n",
        "print('Coeficiente beta0 =', beta_alps[0])\n",
        "print('Coeficiente beta1 =', beta_alps[1])\n",
        "print(beta_alps)\n",
        "Y= multiplicacao_matriz_vetor(X_alps,beta_alps)\n",
        "print('Y=',Y)"
      ],
      "execution_count": 50,
      "outputs": [
        {
          "output_type": "stream",
          "name": "stdout",
          "text": [
            "Método Linear - Dataset Alps Water:\n",
            "Coeficiente beta0 = 155.29648345697024\n",
            "Coeficiente beta1 = 1.9017835240176737\n",
            "[155.29648345697024, 1.9017835240176737]\n",
            "Y= [194.83456292129767, 194.83456292129767, 197.89643439496612, 198.4099159464509, 199.32277203797938, 199.70312874278292, 200.73009184575247, 200.92027019815424, 200.97732370387476, 200.95830586863457, 203.10732125077456, 205.82687169011984, 209.47829605623377, 208.08999408370084, 210.52427699444348, 212.12177515461832, 212.4640961889415]\n"
          ]
        }
      ]
    },
    {
      "cell_type": "code",
      "metadata": {
        "id": "Dt-7iQ-EqjYL",
        "colab": {
          "base_uri": "https://localhost:8080/",
          "height": 295
        },
        "outputId": "fd01a7eb-d733-4759-d4f3-27df3e4a6670"
      },
      "source": [
        "#Gráfico\n",
        "import matplotlib.pyplot as plt\n",
        "plt.scatter(y_input,X)\n",
        "plt.plot(Y,X)\n",
        "plt.xlabel('Boiling')\n",
        "plt.ylabel('Pressure')\n",
        "plt.title('Alps Water')\n",
        "plt.show()"
      ],
      "execution_count": 47,
      "outputs": [
        {
          "output_type": "display_data",
          "data": {
            "image/png": "[encoded data removed]",
            "text/plain": [
              "<Figure size 432x288 with 1 Axes>"
            ]
          },
          "metadata": {
            "needs_background": "light"
          }
        }
      ]
    },
    {
      "cell_type": "code",
      "metadata": {
        "id": "SqAKySTQ7tmb",
        "colab": {
          "base_uri": "https://localhost:8080/"
        },
        "outputId": "97511e12-6789-49e6-fcea-dc3de6bf9565"
      },
      "source": [
        "#Qual o valor de pressão para a temperatura de 200 F?\n",
        "P= (200-beta_alps[0])/beta_alps[1] \n",
        "print(\"A pressão será de:\",P)"
      ],
      "execution_count": 48,
      "outputs": [
        {
          "output_type": "stream",
          "name": "stdout",
          "text": [
            "A pressão será de: 23.50610149812946\n"
          ]
        }
      ]
    },
    {
      "cell_type": "markdown",
      "metadata": {
        "id": "tlarcjllftXN"
      },
      "source": [
        "## **Quadrático - US Census Dataset**\n",
        "Regressão Linear com Método dos Mínimos Quadrados\n",
        "(Quadrático)\n",
        "Y= Population , X= Year -> Y= Beta0 +Beta1*X +Beta2 *X^2\n",
        "\n",
        "\n",
        "\n"
      ]
    },
    {
      "cell_type": "code",
      "metadata": {
        "id": "ZFQEiah7gZAF",
        "colab": {
          "base_uri": "https://localhost:8080/",
          "height": 388
        },
        "outputId": "4e706866-8457-41ce-f266-032acd32b4c4"
      },
      "source": [
        "us_census = pd.read_csv('/content/drive/MyDrive/Colab Notebooks/data/US-Census.txt', sep='\\t', header=None)\n",
        "us_census.columns = ['x','y'] #atribuição de nomes às colunas\n",
        "us_census"
      ],
      "execution_count": 39,
      "outputs": [
        {
          "output_type": "execute_result",
          "data": {
            "text/html": [
              "<div>\n",
              "<style scoped>\n",
              "    .dataframe tbody tr th:only-of-type {\n",
              "        vertical-align: middle;\n",
              "    }\n",
              "\n",
              "    .dataframe tbody tr th {\n",
              "        vertical-align: top;\n",
              "    }\n",
              "\n",
              "    .dataframe thead th {\n",
              "        text-align: right;\n",
              "    }\n",
              "</style>\n",
              "<table border=\"1\" class=\"dataframe\">\n",
              "  <thead>\n",
              "    <tr style=\"text-align: right;\">\n",
              "      <th></th>\n",
              "      <th>x</th>\n",
              "      <th>y</th>\n",
              "    </tr>\n",
              "  </thead>\n",
              "  <tbody>\n",
              "    <tr>\n",
              "      <th>0</th>\n",
              "      <td>1900</td>\n",
              "      <td>75.995</td>\n",
              "    </tr>\n",
              "    <tr>\n",
              "      <th>1</th>\n",
              "      <td>1910</td>\n",
              "      <td>91.972</td>\n",
              "    </tr>\n",
              "    <tr>\n",
              "      <th>2</th>\n",
              "      <td>1920</td>\n",
              "      <td>105.711</td>\n",
              "    </tr>\n",
              "    <tr>\n",
              "      <th>3</th>\n",
              "      <td>1930</td>\n",
              "      <td>123.203</td>\n",
              "    </tr>\n",
              "    <tr>\n",
              "      <th>4</th>\n",
              "      <td>1940</td>\n",
              "      <td>131.669</td>\n",
              "    </tr>\n",
              "    <tr>\n",
              "      <th>5</th>\n",
              "      <td>1950</td>\n",
              "      <td>150.697</td>\n",
              "    </tr>\n",
              "    <tr>\n",
              "      <th>6</th>\n",
              "      <td>1960</td>\n",
              "      <td>179.323</td>\n",
              "    </tr>\n",
              "    <tr>\n",
              "      <th>7</th>\n",
              "      <td>1970</td>\n",
              "      <td>203.212</td>\n",
              "    </tr>\n",
              "    <tr>\n",
              "      <th>8</th>\n",
              "      <td>1980</td>\n",
              "      <td>226.505</td>\n",
              "    </tr>\n",
              "    <tr>\n",
              "      <th>9</th>\n",
              "      <td>1990</td>\n",
              "      <td>249.633</td>\n",
              "    </tr>\n",
              "    <tr>\n",
              "      <th>10</th>\n",
              "      <td>2000</td>\n",
              "      <td>281.422</td>\n",
              "    </tr>\n",
              "  </tbody>\n",
              "</table>\n",
              "</div>"
            ],
            "text/plain": [
              "       x        y\n",
              "0   1900   75.995\n",
              "1   1910   91.972\n",
              "2   1920  105.711\n",
              "3   1930  123.203\n",
              "4   1940  131.669\n",
              "5   1950  150.697\n",
              "6   1960  179.323\n",
              "7   1970  203.212\n",
              "8   1980  226.505\n",
              "9   1990  249.633\n",
              "10  2000  281.422"
            ]
          },
          "metadata": {},
          "execution_count": 39
        }
      ]
    },
    {
      "cell_type": "code",
      "metadata": {
        "id": "2DI-zsu0gMwz",
        "colab": {
          "base_uri": "https://localhost:8080/"
        },
        "outputId": "a7234336-63d1-46e3-cdfb-19eddc9a40d2"
      },
      "source": [
        "#Definição da matriz de entrada (X) -> considerando incluindo x^2\n",
        "x_input = [i for i in us_census['x']]\n",
        "X_us = [[1,i,i**2] for i in x_input]\n",
        "\n",
        "#Definição do saída\n",
        "Y_us = [i for i in us_census['y']]\n",
        "\n",
        "#Cálculo da transposta de X\n",
        "Xt_us = transposta(X_us)\n",
        "\n",
        "#Transposta de X escalar X\n",
        "m_us= multiplicacao_matrizes(Xt_us,X_us)\n",
        "\n",
        "#Cálculo da inversa da matrix 2x2 (Inversa da Multiplicação de X transposta por X)\n",
        "inv_us = matriz_inversa(m_us)\n",
        "\n",
        "#Multiplicação da matriz X transposta pelo vetor y\n",
        "XtY_us = multiplicacao_matriz_vetor(Xt_us,Y_us)\n",
        "\n",
        "#Resultado final\n",
        "beta_us = multiplicacao_matriz_vetor(inv_us,XtY_us)\n",
        "print('Método Quadrático - Dataset US-Census:')\n",
        "print('Coeficiente b0 =', beta_us[0])\n",
        "print('Coeficiente b1 =', beta_us[1])\n",
        "print('Coeficiente b2 =', beta_us[2])"
      ],
      "execution_count": 51,
      "outputs": [
        {
          "output_type": "stream",
          "name": "stdout",
          "text": [
            "Método Quadrático - Dataset US-Census:\n",
            "Coeficiente b0 = 32294.01736307144\n",
            "Coeficiente b1 = -34.98747000005096\n",
            "Coeficiente b2 = 0.009490454545471039\n"
          ]
        }
      ]
    },
    {
      "cell_type": "markdown",
      "metadata": {
        "id": "5pqN3sPZmFK-"
      },
      "source": [
        "# **Books x Grades - Bisquare**\n",
        "\n",
        "Dataset contains 3 variables, books, attend and grade and has 40 \n",
        "cases.\n",
        "• Books represents the number of books read by students on a \n",
        "statistics course,\n",
        "• Attend represents the number of lectures they attended and \n",
        "• Grade represents their final grade on the course.\n",
        "Regressão Linear com Método dos Mínimos Quadrados (Bisquare) \n",
        "Y= Grade, X1= Books, X2=Attend -> \n",
        "Y= Beta0 +Beta1*X1 + Beta2 *X2\n"
      ]
    },
    {
      "cell_type": "code",
      "metadata": {
        "id": "rkxX__xKmejX",
        "colab": {
          "base_uri": "https://localhost:8080/",
          "height": 203
        },
        "outputId": "c6c53803-f8c7-4ea0-854b-d0a4ea405d86"
      },
      "source": [
        "import pandas as pd\n",
        "books_attend_grade = pd.read_csv('/content/drive/MyDrive/Colab Notebooks/data/Books_attend_grade.txt',sep='\\t',header=None)\n",
        "books_attend_grade.columns=['Books', 'Attend', 'Grade']\n",
        "books_attend_grade.head()"
      ],
      "execution_count": 41,
      "outputs": [
        {
          "output_type": "execute_result",
          "data": {
            "text/html": [
              "<div>\n",
              "<style scoped>\n",
              "    .dataframe tbody tr th:only-of-type {\n",
              "        vertical-align: middle;\n",
              "    }\n",
              "\n",
              "    .dataframe tbody tr th {\n",
              "        vertical-align: top;\n",
              "    }\n",
              "\n",
              "    .dataframe thead th {\n",
              "        text-align: right;\n",
              "    }\n",
              "</style>\n",
              "<table border=\"1\" class=\"dataframe\">\n",
              "  <thead>\n",
              "    <tr style=\"text-align: right;\">\n",
              "      <th></th>\n",
              "      <th>Books</th>\n",
              "      <th>Attend</th>\n",
              "      <th>Grade</th>\n",
              "    </tr>\n",
              "  </thead>\n",
              "  <tbody>\n",
              "    <tr>\n",
              "      <th>0</th>\n",
              "      <td>0</td>\n",
              "      <td>9</td>\n",
              "      <td>45</td>\n",
              "    </tr>\n",
              "    <tr>\n",
              "      <th>1</th>\n",
              "      <td>1</td>\n",
              "      <td>15</td>\n",
              "      <td>57</td>\n",
              "    </tr>\n",
              "    <tr>\n",
              "      <th>2</th>\n",
              "      <td>0</td>\n",
              "      <td>10</td>\n",
              "      <td>45</td>\n",
              "    </tr>\n",
              "    <tr>\n",
              "      <th>3</th>\n",
              "      <td>2</td>\n",
              "      <td>16</td>\n",
              "      <td>51</td>\n",
              "    </tr>\n",
              "    <tr>\n",
              "      <th>4</th>\n",
              "      <td>4</td>\n",
              "      <td>10</td>\n",
              "      <td>65</td>\n",
              "    </tr>\n",
              "  </tbody>\n",
              "</table>\n",
              "</div>"
            ],
            "text/plain": [
              "   Books  Attend  Grade\n",
              "0      0       9     45\n",
              "1      1      15     57\n",
              "2      0      10     45\n",
              "3      2      16     51\n",
              "4      4      10     65"
            ]
          },
          "metadata": {},
          "execution_count": 41
        }
      ]
    },
    {
      "cell_type": "code",
      "metadata": {
        "id": "Zqzd2D6wnB0h"
      },
      "source": [
        "#Cálculo da matriz X\n",
        "x_input = [i for i in books_attend_grade['Books']]\n",
        "X_books=[[1,i,j] for i, j in zip(x_input, books_attend_grade['Attend'])]\n",
        "\n",
        "#Cálculo da matriz Y\n",
        "Y_books = [i for i in books_attend_grade['Grade']]\n",
        "\n",
        "#Cálculo da matrix X transposta\n",
        "Xt_books = transposta(X_books)\n",
        "\n",
        "#Multiplicação de X transposta pela entrada X\n",
        "m_books = multiplicacao_matrizes(Xt_books,X_books)\n",
        "\n",
        "#Cálculo da inversa da matrix 3x3 (Inversa da Multiplicação de X transposta por X)\n",
        "inv1_books = matriz_inversa(m_books)\n",
        "\n",
        "#Multiplicação da matriz X transposta por y\n",
        "XtY1_books = multiplicacao_matriz_vetor(Xt_books,Y_books)\n",
        "\n",
        "beta_books = multiplicacao_matriz_vetor(inv1_books,XtY1_books)"
      ],
      "execution_count": 53,
      "outputs": []
    },
    {
      "cell_type": "code",
      "metadata": {
        "id": "89RHhVAtnt2q"
      },
      "source": [
        "#Cálculo da matriz W\n",
        "W_books=[]\n",
        "for i in range(len(Y_books)):\n",
        "    w=1/(Y_books[i]-(beta_books[0]*X_books[i][0]+beta_books[1]*X_books[i][1]+beta_books[2]*X_books[i][2]))\n",
        "    if w<0:\n",
        "        w=-w\n",
        "    W_books.append(w)"
      ],
      "execution_count": 43,
      "outputs": []
    },
    {
      "cell_type": "code",
      "metadata": {
        "id": "JSBqiPl_nwl-",
        "colab": {
          "base_uri": "https://localhost:8080/"
        },
        "outputId": "85dfbd76-3dfd-49f8-93d6-3ed184374d2b"
      },
      "source": [
        "#Produto vetorial entre X transposta x W\n",
        "Z=[]\n",
        "for i,j in zip(Xt_books[0],W_books):\n",
        "    Z.append(i*j)\n",
        "\n",
        "for i,j in zip(Xt_books[1],W_books):\n",
        "    Z.append(i*j)\n",
        "\n",
        "for i,j in zip(Xt_books[2],W_books):\n",
        "    Z.append(i*j)\n",
        "\n",
        "n = 3 #separando a lista em 03 partes para representar a matriz\n",
        "XtW_books = [Z[i::n] for i in range(n)]\n",
        "\n",
        "#Multiplicação da transposta de X pelo produto vetorial\n",
        "mr_books  = multiplicacao_matrizes(XtW_books,X_books)\n",
        "\n",
        "#Inversa do elemento 01 do produto escalar\n",
        "inv2_books = matriz_inversa(mr_books)\n",
        "\n",
        "#Cálculo do elemento 02 do produto escalar \n",
        "XtY2_books = multiply_matrix_vector(XtW_books,Y_books)\n",
        "\n",
        "#Cálculo do coeficiente bettha\n",
        "beta_books = multiplicacao_matriz_vetor(inv2_books,XtY2_books)\n",
        "\n",
        "#Resposta - coeficientes método robusto dataset Books, attend and grade\n",
        "print('Método Robusto - DatasetBooks, attend and grade:')\n",
        "print('Coeficiente b0 =', beta_books[0])\n",
        "print('Coeficiente b1 =', beta_books[1])\n",
        "print('Coeficiente b2 =', beta_books[2])"
      ],
      "execution_count": 54,
      "outputs": [
        {
          "output_type": "stream",
          "name": "stdout",
          "text": [
            "Método Robusto - DatasetBooks, attend and grade:\n",
            "Coeficiente b0 = -818.8498826007017\n",
            "Coeficiente b1 = 85.33311830852267\n",
            "Coeficiente b2 = 46.5306542633009\n"
          ]
        }
      ]
    }
  ]
}